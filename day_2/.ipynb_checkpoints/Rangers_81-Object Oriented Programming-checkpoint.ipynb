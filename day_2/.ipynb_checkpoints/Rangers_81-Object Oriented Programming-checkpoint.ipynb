{
 "cells": [
  {
   "cell_type": "markdown",
   "metadata": {},
   "source": [
    "# Object-Oriented-Programming (OOP)"
   ]
  },
  {
   "cell_type": "markdown",
   "metadata": {},
   "source": [
    "## Tasks Today:\n",
    "\n",
    "   \n",
    "\n",
    "1) <b>Creating a Class (Initializing/Declaring)</b> <br>\n",
    "2) <b>Using a Class (Instantiating)</b> <br>\n",
    " &nbsp;&nbsp;&nbsp;&nbsp; a) Creating One Instance <br>\n",
    " &nbsp;&nbsp;&nbsp;&nbsp; b) Creating Multiple Instances <br>\n",
    " &nbsp;&nbsp;&nbsp;&nbsp; c) In-Class Exercise #1 - Create a Class 'Car' and instantiate three different makes of cars <br>\n",
    "3) <b>The \\__init\\__() Method</b> <br>\n",
    " &nbsp;&nbsp;&nbsp;&nbsp; a) The 'self' Attribute <br>\n",
    "4) <b>Class Attributes</b> <br>\n",
    " &nbsp;&nbsp;&nbsp;&nbsp; a) Initializing Attributes <br>\n",
    " &nbsp;&nbsp;&nbsp;&nbsp; b) Setting an Attribute Outside of the \\__init\\__() Method <br>\n",
    " &nbsp;&nbsp;&nbsp;&nbsp; c) Setting Defaults for Attributes <br>\n",
    " &nbsp;&nbsp;&nbsp;&nbsp; d) Accessing Class Attributes <br>\n",
    " &nbsp;&nbsp;&nbsp;&nbsp; e) Changing Class Attributes <br>\n",
    " &nbsp;&nbsp;&nbsp;&nbsp; f) In-Class Exercise #2 - Add a color and wheels attribute to your 'Car' class <br>\n",
    "5) <b>Class Methods</b> <br>\n",
    " &nbsp;&nbsp;&nbsp;&nbsp; a) Creating <br>\n",
    " &nbsp;&nbsp;&nbsp;&nbsp; b) Calling <br>\n",
    " &nbsp;&nbsp;&nbsp;&nbsp; c) Modifying an Attribute's Value Through a Method <br>\n",
    " &nbsp;&nbsp;&nbsp;&nbsp; d) Incrementing an Attribute's Value Through a Method <br>\n",
    " &nbsp;&nbsp;&nbsp;&nbsp; e) In-Class Exercise #3 - Add a method that prints the cars color and wheel number, then call them <br>\n",
    "6) <b>Inheritance</b> <br>\n",
    " &nbsp;&nbsp;&nbsp;&nbsp; a) Syntax for Inheriting from a Parent Class <br>\n",
    " &nbsp;&nbsp;&nbsp;&nbsp; b) The \\__init\\__() Method for a Child Class (super()) <br>\n",
    " &nbsp;&nbsp;&nbsp;&nbsp; c) Defining Attributes and Methods for the Child Class <br>\n",
    " &nbsp;&nbsp;&nbsp;&nbsp; d) Method Overriding <br>\n",
    " &nbsp;&nbsp;&nbsp;&nbsp; e) In-Class Exercise #4 - Create a class 'Ford' that inherits from 'Car' class and initialize it as a Blue Ford Explorer with 4 wheels using the super() method <br>\n",
    "7) <b>Classes as Attributes</b> <br>\n",
    "8) <b>Exercises</b> <br>\n",
    " &nbsp;&nbsp;&nbsp;&nbsp; a) Exercise #1 - Turn the shopping cart program from last week into an object-oriented program <br>"
   ]
  },
  {
   "cell_type": "markdown",
   "metadata": {},
   "source": [
    "## Creating a Class (Initializing/Declaring)\n",
    "<p>When creating a class, function, or even a variable you are initializing that object. Initializing and Declaring occur at the same time in Python, whereas in lower level languages you have to declare an object before initializing it. This is the first step in the process of using a class.</p>"
   ]
  },
  {
   "cell_type": "code",
   "execution_count": 2,
   "metadata": {},
   "outputs": [],
   "source": [
    "class Car():\n",
    "    wheels = 4\n",
    "    color = 'blue'"
   ]
  },
  {
   "cell_type": "markdown",
   "metadata": {},
   "source": [
    "## Using a Class (Instantiating)\n",
    "<p>The process of creating a class is called <i>Instantiating</i>. Each time you create a variable of that type of class, it is referred to as an <i>Instance</i> of that class. This is the second step in the process of using a class.</p>"
   ]
  },
  {
   "cell_type": "markdown",
   "metadata": {},
   "source": [
    "##### Creating One Instance"
   ]
  },
  {
   "cell_type": "code",
   "execution_count": 3,
   "metadata": {},
   "outputs": [],
   "source": [
    "ford = Car()\n",
    "mazda = Car()\n",
    "honda = Car()"
   ]
  },
  {
   "cell_type": "markdown",
   "metadata": {},
   "source": [
    "##### Creating Multiple Instances"
   ]
  },
  {
   "cell_type": "code",
   "execution_count": 4,
   "metadata": {},
   "outputs": [
    {
     "name": "stdout",
     "output_type": "stream",
     "text": [
      "4\n",
      "blue\n"
     ]
    }
   ],
   "source": [
    "porsche = Car()\n",
    "print(porsche.wheels)\n",
    "print(porsche.color)"
   ]
  },
  {
   "cell_type": "markdown",
   "metadata": {},
   "source": [
    "##### In-Class Exercise #1 - Create a Class 'Car' and Instantiate three different makes of cars"
   ]
  },
  {
   "cell_type": "code",
   "execution_count": 6,
   "metadata": {},
   "outputs": [
    {
     "name": "stdout",
     "output_type": "stream",
     "text": [
      "Ford\n",
      "2016\n"
     ]
    }
   ],
   "source": [
    "class Vehicle():\n",
    "    year = 2016\n",
    "    color = 'black'\n",
    "    brand = 'Ford'\n",
    "    \n",
    "minivan = Vehicle()\n",
    "sport_car = Vehicle()\n",
    "SUV = Vehicle()\n",
    "\n",
    "print(minivan.brand)\n",
    "print(minivan.year)"
   ]
  },
  {
   "cell_type": "markdown",
   "metadata": {},
   "source": [
    "## The \\__init\\__() Method <br>\n",
    "<p>This method is used in almost every created class, and called only once upon the creation of the class instance. This method will initialize all variables needed for the object.</p>"
   ]
  },
  {
   "cell_type": "code",
   "execution_count": 12,
   "metadata": {},
   "outputs": [
    {
     "name": "stdout",
     "output_type": "stream",
     "text": [
      "4\n"
     ]
    },
    {
     "data": {
      "text/plain": [
       "{'wheels': 4, 'color': 'red'}"
      ]
     },
     "execution_count": 12,
     "metadata": {},
     "output_type": "execute_result"
    }
   ],
   "source": [
    "class Car():\n",
    "    ENGINE = '4.7L'\n",
    "    def __init__(self, wheels, color):\n",
    "        self.wheels = wheels\n",
    "        self.color = color\n",
    "        \n",
    "ford = Car(4, \"red\")\n",
    "print(ford.wheels)\n",
    "\n",
    "ford.__dict__"
   ]
  },
  {
   "cell_type": "markdown",
   "metadata": {},
   "source": [
    "##### The 'self' Attribute <br>\n",
    "<p>This attribute is required to keep track of specific instance's attributes. Without the self attribute, the program would not know how to reference or keep track of an instance's attributes.</p>"
   ]
  },
  {
   "cell_type": "code",
   "execution_count": 13,
   "metadata": {},
   "outputs": [],
   "source": [
    "# see above"
   ]
  },
  {
   "cell_type": "markdown",
   "metadata": {},
   "source": [
    "## Class Attributes <br>\n",
    "<p>While variables are inside of a class, they are referred to as attributes and not variables. When someone says 'attribute' you know they're speaking about a class. Attributes can be initialized through the init method, or outside of it.</p>"
   ]
  },
  {
   "cell_type": "markdown",
   "metadata": {},
   "source": [
    "##### Initializing Attributes"
   ]
  },
  {
   "cell_type": "code",
   "execution_count": 15,
   "metadata": {},
   "outputs": [],
   "source": [
    "# see above\n",
    "\n",
    "class Toy():\n",
    "    TYPE = 'pet rock'\n",
    "    \n",
    "    def __init__(self, name, color, size, texture, elmo_hate):\n",
    "        self.name = name\n",
    "        self.color = color\n",
    "        self.size = size\n",
    "        self.texture = texture\n",
    "        self.elmo_hate = elmo_hate\n",
    "        \n",
    "pet_rock1 = Toy('Rocco', 'grey', 'large', 'bumpy', False)\n"
   ]
  },
  {
   "cell_type": "markdown",
   "metadata": {},
   "source": [
    "##### Accessing Class Attributes"
   ]
  },
  {
   "cell_type": "code",
   "execution_count": 16,
   "metadata": {
    "scrolled": true
   },
   "outputs": [
    {
     "name": "stdout",
     "output_type": "stream",
     "text": [
      "Rocco\n"
     ]
    }
   ],
   "source": [
    "# See Above\n",
    "\n",
    "print(pet_rock1.name)"
   ]
  },
  {
   "cell_type": "markdown",
   "metadata": {},
   "source": [
    "##### Setting Defaults for Attributes"
   ]
  },
  {
   "cell_type": "code",
   "execution_count": 21,
   "metadata": {},
   "outputs": [
    {
     "name": "stdout",
     "output_type": "stream",
     "text": [
      "4\n",
      "Blue\n"
     ]
    }
   ],
   "source": [
    "class Car():\n",
    "    ENGINE = '4.7L' #constant attribute - this cannot be changed\n",
    "    \n",
    "    def __init__(self, wheels):\n",
    "        self.wheels = wheels\n",
    "        self.color = 'Blue' #default attribute - this can be changed\n",
    "        \n",
    "honda = Car(4)\n",
    "jeep = Car(4)\n",
    "print(honda.wheels)\n",
    "print(jeep.color)\n",
    "\n"
   ]
  },
  {
   "cell_type": "markdown",
   "metadata": {},
   "source": [
    "##### Changing Class Attributes <br>\n",
    "<p>Keep in mind there are global class attributes and then there are attributes only available to each class instance which won't effect other classes.</p>"
   ]
  },
  {
   "cell_type": "code",
   "execution_count": 22,
   "metadata": {},
   "outputs": [
    {
     "name": "stdout",
     "output_type": "stream",
     "text": [
      "Before the change: Blue\n",
      "\n",
      " After Change: White\n"
     ]
    }
   ],
   "source": [
    "print(f\"Before the change: {jeep.color}\")\n",
    "jeep.color = \"White\"\n",
    "print(f\"\\n After Change: {jeep.color}\")\n",
    "\n"
   ]
  },
  {
   "cell_type": "code",
   "execution_count": null,
   "metadata": {},
   "outputs": [],
   "source": []
  },
  {
   "cell_type": "markdown",
   "metadata": {},
   "source": [
    "##### In-Class Exercise #2 - Add a doors and seats attribute to your 'Car' class then print out two different instances with different doors and seats"
   ]
  },
  {
   "cell_type": "code",
   "execution_count": 23,
   "metadata": {},
   "outputs": [
    {
     "name": "stdout",
     "output_type": "stream",
     "text": [
      "Blue\n",
      "2\n",
      "3\n"
     ]
    }
   ],
   "source": [
    "class Car():\n",
    "    ENGINE = '4.7L' #constant attribute - this cannot be changed\n",
    "\n",
    "    def __init__(self, wheels, door, seats):\n",
    "        self.wheels = wheels\n",
    "        self.color = 'Blue'\n",
    "        self.door = door\n",
    "        self.seats = seats\n",
    "        \n",
    "ford = Car('4', '2', '3')\n",
    "print(ford.color)\n",
    "print(ford.door)\n",
    "print(ford.seats)"
   ]
  },
  {
   "cell_type": "markdown",
   "metadata": {},
   "source": [
    "## Class Methods <br>\n",
    "<p>While inside of a class, functions are referred to as 'methods'. If you hear someone mention methods, they're speaking about classes. Methods are essentially functions, but only callable on the instances of a class.</p>"
   ]
  },
  {
   "cell_type": "markdown",
   "metadata": {},
   "source": [
    "##### Creating"
   ]
  },
  {
   "cell_type": "code",
   "execution_count": 37,
   "metadata": {},
   "outputs": [],
   "source": [
    "class Bus():\n",
    "    \"\"\"\n",
    "    The bus will have doors, seats, seats available color, and a bus driver\n",
    "    \n",
    "    Attributes for the class:\n",
    "    -doors: expected to be an integer\n",
    "    -seats: expected to be an integer\n",
    "    -seats_available: expected to be an integer\n",
    "    -color: expected to be a string\n",
    "    -bus_driver: expected to be a string\n",
    "    \"\"\"\n",
    "    def __init__(self, doors, seats, seats_available, color, bus_driver):\n",
    "        self.doors = doors\n",
    "        self.seats = seats\n",
    "        self.seats_available = seats_available\n",
    "        self.color = color\n",
    "        self.bus_driver = bus_driver\n",
    "        \n",
    "    # decrement the number of seats available\n",
    "    def load_passengers(self):\n",
    "        if self.seats_available <= 0:\n",
    "            print(\"This bus is full! You can't take anymore passengers!\")\n",
    "        else:\n",
    "            passengers = int(input(\"How many passengers are getting on?\"))\n",
    "            self.seats_available -= passengers\n",
    "            print(f\"{passengers} seats have been taken and there are {self.seats_available} left on the bus\")\n",
    "            \n",
    "    #increment number of seats available\n",
    "    def unload_passengers(self):\n",
    "        if self.seats_available >= self.seats:\n",
    "            print(\"There is no one left to get off the bus!\")\n",
    "        else:\n",
    "            unload = int(input('How many passengers are getting off the bus?'))\n",
    "            self.seats_available += unload\n",
    "            print(f\"{unload} passengers have got off and there are {self.seats_available} seats available.\")\n",
    "            \n",
    "    # modify an attributes value\n",
    "    def change_driver(self):\n",
    "        change = input(\"Who is replacing you?\")\n",
    "        self.bus_drive = change\n",
    "        print(f\"The new bus driver is {self.bus_driver}\")\n",
    "        \n",
    "    def check_seats(self):\n",
    "        print(f\"{self.seats_available} seats are available!\")\n",
    "        \n",
    "\n",
    "vin_bus = Bus(2, 90, 45, 'yellow', 'Ryan')\n",
    "\n"
   ]
  },
  {
   "cell_type": "markdown",
   "metadata": {},
   "source": [
    "##### Calling"
   ]
  },
  {
   "cell_type": "code",
   "execution_count": 38,
   "metadata": {},
   "outputs": [
    {
     "name": "stdout",
     "output_type": "stream",
     "text": [
      "What would you like to do? Load/Unload/Change Drive/Check Seats/Quit load\n",
      "How many passengers are getting on?3\n",
      "3 seats have been taken and there are 42 left on the bus\n",
      "What would you like to do? Load/Unload/Change Drive/Check Seats/Quit unload\n",
      "How many passengers are getting off the bus?2\n",
      "2 passengers have got off and there are 44 seats available.\n",
      "What would you like to do? Load/Unload/Change Drive/Check Seats/Quit check seats\n",
      "44 seats are available!\n",
      "What would you like to do? Load/Unload/Change Drive/Check Seats/Quit quit\n",
      "Oh no! There are still passengers to be picked up :(\n"
     ]
    }
   ],
   "source": [
    "# See Above\n",
    "def run():\n",
    "    while True:\n",
    "        response = input('What would you like to do? Load/Unload/Change Drive/Check Seats/Quit ')\n",
    "        if response.lower() == 'quit':\n",
    "            print(\"Oh no! There are still passengers to be picked up :(\")\n",
    "            break\n",
    "        elif response.lower() == 'load':\n",
    "            vin_bus.load_passengers()\n",
    "        elif response.lower() == 'unload':\n",
    "            vin_bus.unload_passengers()\n",
    "        elif response.lower() == 'change driver':\n",
    "            vin_bus.change_driver()\n",
    "        elif response.lower() == 'check seats':\n",
    "            vin_bus.check_seats()\n",
    "        else:\n",
    "            print(\"Error: Please try again.\")\n",
    "            \n",
    "run()\n",
    "            "
   ]
  },
  {
   "cell_type": "markdown",
   "metadata": {},
   "source": [
    "##### Modifying an Attribute's Value Through a Method"
   ]
  },
  {
   "cell_type": "code",
   "execution_count": null,
   "metadata": {},
   "outputs": [],
   "source": []
  },
  {
   "cell_type": "markdown",
   "metadata": {},
   "source": [
    "##### Incrementing an Attribute's Value Through a Method"
   ]
  },
  {
   "cell_type": "code",
   "execution_count": null,
   "metadata": {},
   "outputs": [],
   "source": []
  },
  {
   "cell_type": "markdown",
   "metadata": {},
   "source": [
    "##### In-Class Exercise #3 - Add a method that takes in three parameters of year, doors and seats and prints out a formatted print statement with make, model, year, seats, and doors"
   ]
  },
  {
   "cell_type": "code",
   "execution_count": 40,
   "metadata": {},
   "outputs": [
    {
     "name": "stdout",
     "output_type": "stream",
     "text": [
      "This car is from 2019 and is a Ford Explorer and has 4 doors and 5 seats\n"
     ]
    }
   ],
   "source": [
    "# Create class with 2 paramters inside of the __init__ which are make and model\n",
    "\n",
    "# Inside of the Car class create a method that has 4 parameter in total (self,year,door,seats)\n",
    "\n",
    "# Output: This car is from 2019 and is a Ford Expolorer and has 4 doors and 5 seats\n",
    "\n",
    "\n",
    "class Car2():\n",
    "    def __init__(self, year, door, seats):\n",
    "        self.year = year\n",
    "        self.door = door\n",
    "        self.seats = seats\n",
    "        self.make_model = \"Ford Explorer\"\n",
    "\n",
    "car_example = Car2('2019','4','5')\n",
    "\n",
    "print(f\"This car is from {car_example.year} and is a {car_example.make_model} and has {car_example.door} doors and {car_example.seats} seats\")"
   ]
  },
  {
   "cell_type": "markdown",
   "metadata": {},
   "source": [
    "## Inheritance <br>\n",
    "<p>You can create a child-parent relationship between two classes by using inheritance. What this allows you to do is have overriding methods, but also inherit traits from the parent class. Think of it as an actual parent and child, the child will inherit the parent's genes, as will the classes in OOP</p>"
   ]
  },
  {
   "cell_type": "markdown",
   "metadata": {},
   "source": [
    "##### Syntax for Inheriting from a Parent Class"
   ]
  },
  {
   "cell_type": "code",
   "execution_count": 43,
   "metadata": {},
   "outputs": [],
   "source": [
    "#parent class\n",
    "class Animal():\n",
    "    ACCELERATION = 9.8\n",
    "    \n",
    "    def __init__(self, name, species, legs=4):\n",
    "        self.name = name\n",
    "        self.species = species\n",
    "        self.legs = legs\n",
    "        \n",
    "    def makeSound(self):\n",
    "        print(\"reeeeeeeeee\")\n",
    "\n",
    "#child class\n",
    "class Dog(Animal):\n",
    "    SPEED: 15\n",
    "    \n",
    "    def printInfo(self):\n",
    "        print(f\"The dog runs at {SPEED} mph and accelerates at {ACCELERATION}\")\n",
    "\n",
    "#grandchild class\n",
    "class Mut(Dog):\n",
    "    color = 'black & brown'\n",
    "    \n",
    "    #Override the Animal Class __init__ method by way of using the Dog class\n",
    "    def __init__(self, name, species, eye_color, legs = 4):\n",
    "        Dog.__init__(name, species, legs)\n",
    "        self.eye_color = eye_color\n",
    "    \n",
    "    #override the makeSound method (again from the Animal class)\n",
    "    def makeSound(self):\n",
    "        print(\"ruff ruff ruff\")\n",
    "        \n"
   ]
  },
  {
   "cell_type": "markdown",
   "metadata": {},
   "source": [
    "##### The \\__init\\__() Method for a Child Class - super()"
   ]
  },
  {
   "cell_type": "code",
   "execution_count": 54,
   "metadata": {
    "scrolled": true
   },
   "outputs": [
    {
     "name": "stdout",
     "output_type": "stream",
     "text": [
      "woooooof\n"
     ]
    }
   ],
   "source": [
    "class Mut(Dog):\n",
    "    color = 'black & brown'\n",
    "    \n",
    "    #overriding the Animal class__init__ with the super().__init__\n",
    "    def __init__(self, name, species, eye_color, legs=4):\n",
    "        super().__init__(name, species, legs)\n",
    "        self.eye_color = eye_color\n",
    "            \n",
    "    def makeSound(self):\n",
    "        print(\"woooooof\")\n",
    "        \n",
    "argos = Mut('Argos', 'dog', 'brown')\n",
    "\n",
    "argos.makeSound()"
   ]
  },
  {
   "cell_type": "markdown",
   "metadata": {},
   "source": [
    "##### Defining Attributes and Methods for the Child Class"
   ]
  },
  {
   "cell_type": "code",
   "execution_count": null,
   "metadata": {},
   "outputs": [],
   "source": [
    "# See Above"
   ]
  },
  {
   "cell_type": "markdown",
   "metadata": {},
   "source": [
    "##### Method Overriding"
   ]
  },
  {
   "cell_type": "code",
   "execution_count": null,
   "metadata": {},
   "outputs": [],
   "source": [
    "# See Above"
   ]
  },
  {
   "cell_type": "markdown",
   "metadata": {},
   "source": [
    "## Classes as Attributes <br>\n",
    "<p>Classes can also be used as attributes within another class. This is useful in situations where you need to keep variables locally stored, instead of globally stored.</p>"
   ]
  },
  {
   "cell_type": "code",
   "execution_count": 56,
   "metadata": {},
   "outputs": [
    {
     "name": "stdout",
     "output_type": "stream",
     "text": [
      "20\n"
     ]
    }
   ],
   "source": [
    "class Battery():\n",
    "    VOLTZ: 7.8\n",
    "        \n",
    "    def __init__(self, cells):\n",
    "        self.cells = cells\n",
    "        \n",
    "class Car():\n",
    "    def __init__(self, year, make, model, battery):\n",
    "        self.year = year\n",
    "        self.make = make\n",
    "        self.model = model\n",
    "        self.battery = battery\n",
    "    \n",
    "    def printInfo(self):\n",
    "        return f\"{self.year} {self,make} {self.battery.cells}\"\n",
    "\n",
    "battery = Battery(20)\n",
    "tesla_model_S_plaid = Car(2019, 'Tesla', 'Model S', battery)\n",
    "\n",
    "print(tesla_model_S_plaid.battery.cells)"
   ]
  },
  {
   "cell_type": "markdown",
   "metadata": {},
   "source": [
    "# Exercise #4 \n",
    "Create a class that has at least 3 attributes. One must be a list or a dictionary.\n",
    "\n",
    "The class must also have 3 methods, one that adds to the list or dictionary, one that alters an attributes value, and one that does whatever you want it to do."
   ]
  },
  {
   "cell_type": "code",
   "execution_count": 60,
   "metadata": {},
   "outputs": [],
   "source": [
    "class Super_hero():\n",
    "    \n",
    "    def __init__(self, secret_identity, weakness, age, weapons):\n",
    "        self.powers = []\n",
    "        self.secret_identity = secret_identity\n",
    "        self.weakness = weakness\n",
    "        self.age = age\n",
    "        self.weapons = weapons\n",
    "        \n",
    "    def add_power(self):\n",
    "        new_power = input(\"What is your new power? \")\n",
    "        self.powers.append(new_power)\n",
    "    \n",
    "    def change_age(self):\n",
    "        new_age = input(\"What is your age? \")\n",
    "        self.age = new_age\n",
    "    \n",
    "    def weapon_in_use(self):\n",
    "        weapon = input(\"Which weapon would you like to use? 1) Gun 2) Grenade, Please enter 1 or 2. \")\n",
    "        if weapon == '1':\n",
    "            self.weapons = \"Gun\"\n",
    "        elif weapon == '2':\n",
    "            self.weapons = \"Grenade\"\n",
    "        else:\n",
    "            print(\"Error: Please try again.\")\n",
    "\n",
    "batman = Super_hero('Business man', 'Regular human', '35', 'Gun')\n",
    "\n",
    "print\n",
    "    "
   ]
  },
  {
   "cell_type": "markdown",
   "metadata": {},
   "source": [
    "# Exercises"
   ]
  },
  {
   "cell_type": "markdown",
   "metadata": {},
   "source": [
    "### Exercise 1 - Turn the shopping cart program from yesterday into an object-oriented program\n",
    "\n",
    "The comments in the cell below are there as a guide for thinking about the problem. However, if you feel a different way is best for you and your own thought process, please do what feels best for you by all means."
   ]
  },
  {
   "cell_type": "code",
   "execution_count": 72,
   "metadata": {},
   "outputs": [
    {
     "name": "stdout",
     "output_type": "stream",
     "text": [
      "Please enter the date in the following format: mm/dd/yy 01/19/22\n",
      "Please enter your name vincent\n",
      "Hi Vincent! Please select a command for your 01/19's shopping list. \n",
      "What would you like to do? Add/Remove/Show/Quit asdf\n",
      "Error: Please try again. \n",
      "What would you like to do? Add/Remove/Show/Quit add\n",
      "What would you like to add to your shopping list? apple\n",
      "Please enter the quantity. 3\n",
      "Added Apple x 3 to the list!\n",
      "What would you like to do? Add/Remove/Show/Quit add\n",
      "What would you like to add to your shopping list? banana\n",
      "Please enter the quantity. 5\n",
      "Added Banana x 5 to the list!\n",
      "What would you like to do? Add/Remove/Show/Quit show\n",
      "Hi Vincent! Your 01/19/22's shopping includes: \n",
      "Apple: 3\n",
      "Banana: 5\n",
      "What would you like to do? Add/Remove/Show/Quit remove\n",
      "Your shopping includes: \n",
      "apple\n",
      "banana\n",
      "What would you like to delete? apple\n",
      "Apple is removed! \n",
      "What would you like to do? Add/Remove/Show/Quit show\n",
      "Hi Vincent! Your 01/19/22's shopping includes: \n",
      "Banana: 5\n",
      "What would you like to do? Add/Remove/Show/Quit quit\n"
     ]
    }
   ],
   "source": [
    "# Create a class called cart that retains items and has methods to add, remove, and show\n",
    "\n",
    "class Cart():\n",
    "    def __init__(self, date, name):\n",
    "        self.date = date\n",
    "        self.name = name\n",
    "        self.shopping_list = dict()\n",
    "        \n",
    "    def add_item(self):\n",
    "        new_item = input(\"What would you like to add to your shopping list? \")\n",
    "        new_quantity = int(input(\"Please enter the quantity. \"))\n",
    "        self.shopping_list[new_item] = new_quantity\n",
    "        print(f\"Added {new_item.title()} x {new_quantity} to the list!\")\n",
    "    \n",
    "    def remove_item(self):\n",
    "        if len(self.shopping_list) == 0:\n",
    "            print(\"You have nothing on your shopping list. \")\n",
    "        else:\n",
    "            print(f\"Your shopping includes: \") \n",
    "            for key in self.shopping_list.keys():\n",
    "                print(key)\n",
    "            delete_item = input(\"What would you like to delete? \")\n",
    "            del self.shopping_list[delete_item]\n",
    "            print(f\"{delete_item.title()} is removed! \")\n",
    "    def show(self):\n",
    "        if len(self.shopping_list) == 0:\n",
    "            print(\"You have nothing on your shopping list. \")\n",
    "        else:\n",
    "            print(f\"Hi {self.name.title()}! Your {self.date}'s shopping includes: \") \n",
    "            for key, value in self.shopping_list.items():\n",
    "                print(f\"{key.title()}: {value}\")\n",
    "\n",
    "def input_data():\n",
    "    data_date = input(\"Please enter the date in the following format: mm/dd/yy \")\n",
    "    data_name = input(\"Please enter your name \")\n",
    "    person_a = Cart(data_date, data_name)\n",
    "    print(f\"Hi {data_name.title()}! Please select a command for your {data_date[0:5]}'s shopping list. \")\n",
    "    while True:\n",
    "        command = input(\"What would you like to do? Add/Remove/Show/Quit \")\n",
    "        if command.lower() == \"add\":\n",
    "            person_a.add_item()\n",
    "        elif command.lower() == \"remove\":\n",
    "            person_a.remove_item()\n",
    "        elif command.lower() == \"show\":\n",
    "            person_a.show()\n",
    "        elif command.lower() == \"quit\":\n",
    "            break\n",
    "        else:\n",
    "            print(\"Error: Please try again. \")\n",
    "\n",
    "input_data()"
   ]
  },
  {
   "cell_type": "markdown",
   "metadata": {},
   "source": [
    "### Exercise 2 - Write a Python class which has two methods get_String and print_String. get_String accept a string from the user and print_String print the string in upper case"
   ]
  },
  {
   "cell_type": "code",
   "execution_count": 77,
   "metadata": {},
   "outputs": [
    {
     "name": "stdout",
     "output_type": "stream",
     "text": [
      "Please enter b to begin the form or q to quit. b\n",
      "What is your name? vincent\n",
      "Would you like to print? Y/N y\n",
      "VINCENT\n"
     ]
    }
   ],
   "source": [
    "class String():\n",
    "    def __init__(self):\n",
    "        self.name = \"N/A\"\n",
    "        \n",
    "    def get_string(self):\n",
    "        self.name = input(\"What is your name? \")\n",
    "    def print_string(self):\n",
    "        print(self.name.upper())\n",
    "\n",
    "human = String()\n",
    "        \n",
    "def form():\n",
    "    while True:\n",
    "        action = input('Please enter b to begin the form or q to quit. ')\n",
    "        if action.lower() == 'b':\n",
    "            human.get_string()\n",
    "            action1 = input('Would you like to print? Y/N ')\n",
    "            if action1.lower() == 'y':\n",
    "                human.print_string()\n",
    "                break\n",
    "            elif action1.lower() == 'n':\n",
    "                break\n",
    "        elif action.lower() =='q':\n",
    "            break\n",
    "        else:\n",
    "            print('Error: Please try again.')\n",
    "            \n",
    "form()\n"
   ]
  },
  {
   "cell_type": "code",
   "execution_count": null,
   "metadata": {},
   "outputs": [],
   "source": []
  },
  {
   "cell_type": "code",
   "execution_count": null,
   "metadata": {},
   "outputs": [],
   "source": []
  }
 ],
 "metadata": {
  "kernelspec": {
   "display_name": "Python 3 (ipykernel)",
   "language": "python",
   "name": "python3"
  },
  "language_info": {
   "codemirror_mode": {
    "name": "ipython",
    "version": 3
   },
   "file_extension": ".py",
   "mimetype": "text/x-python",
   "name": "python",
   "nbconvert_exporter": "python",
   "pygments_lexer": "ipython3",
   "version": "3.9.7"
  }
 },
 "nbformat": 4,
 "nbformat_minor": 2
}
