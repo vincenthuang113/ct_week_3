{
 "cells": [
  {
   "cell_type": "code",
   "execution_count": 11,
   "id": "e1f57b8a",
   "metadata": {},
   "outputs": [
    {
     "data": {
      "text/plain": [
       "[2]"
      ]
     },
     "execution_count": 11,
     "metadata": {},
     "output_type": "execute_result"
    }
   ],
   "source": [
    "# Compute Intersection\n",
    "# Given two arrays, write a function to compute their intersection.\n",
    "# Example 1:\n",
    "# Input: nums1 = [1,2,2,1], nums2 = [2,2]\n",
    "# Output: [2]\n",
    "# Example 2:\n",
    "# Input: nums1 = [4,9,5], nums2 = [9,4,9,8,4]\n",
    "# Output: [9,4]\n",
    "# Note:\n",
    "# Each element in the result must be unique.\n",
    "# The result can be in any order.\n",
    "\n",
    "nums1 = [1,2,2,1]\n",
    "nums2 = [2,2]\n",
    "\n",
    "def intersections(nums1, nums2):\n",
    "    return list(set(filter(lambda x: True if x in nums2 else False, nums1)))\n",
    "    \n",
    "# intersections(nums1 = [4,9,5], nums2 = [9,4,9,8,4])\n",
    "\n",
    "def intersect(nums1,nums2):\n",
    "    return list(set(nums1).intersection(nums2))\n",
    "\n",
    "intersect(nums1, nums2)"
   ]
  },
  {
   "cell_type": "code",
   "execution_count": null,
   "id": "06c37c0e",
   "metadata": {},
   "outputs": [],
   "source": []
  }
 ],
 "metadata": {
  "kernelspec": {
   "display_name": "Python 3 (ipykernel)",
   "language": "python",
   "name": "python3"
  },
  "language_info": {
   "codemirror_mode": {
    "name": "ipython",
    "version": 3
   },
   "file_extension": ".py",
   "mimetype": "text/x-python",
   "name": "python",
   "nbconvert_exporter": "python",
   "pygments_lexer": "ipython3",
   "version": "3.9.7"
  }
 },
 "nbformat": 4,
 "nbformat_minor": 5
}
