{
 "cells": [
  {
   "cell_type": "markdown",
   "metadata": {},
   "source": [
    "# Object Oriented Programming 2 - examples and APIs\n"
   ]
  },
  {
   "cell_type": "markdown",
   "metadata": {},
   "source": [
    "## Tasks Today:\n",
    "\n",
    "   \n",
    "\n",
    "1) <b>Shopping Cart Example</b> <br>\n",
    "2) <b>Requests and the pokemon API </b> <br>\n",
    " "
   ]
  },
  {
   "cell_type": "markdown",
   "metadata": {},
   "source": [
    "# Goal \n",
    "### build a shopping cart program with prices and quantities using objects and a dictionary"
   ]
  },
  {
   "cell_type": "code",
   "execution_count": null,
   "metadata": {},
   "outputs": [],
   "source": [
    "# Create a class called cart that retains items and has methods to add, remove, and show\n",
    "\n",
    "# this class is just responsible for the cart object and the actions of the cart object\n",
    "class Cart():\n",
    "    def __init__(self):\n",
    "        self.items = {}\n",
    "    \n",
    "    def add(self):\n",
    "        new_item = input(\"What do you want to get? \")\n",
    "        quantity = int(input(f\"How many {new_item}s do you want? (insert number) \"))\n",
    "        if new_item not in self.items.keys():\n",
    "            self.items[new_item] = quantity\n",
    "        else:\n",
    "            self.items[new_item] += quantity\n",
    "        print(f\"{quantity} {new_item}s are in the cart\")\n",
    "    \n",
    "    def remove(self): \n",
    "        discard = input(\"What would you like to discard? \")\n",
    "        quantity = int(input(\" How many would you like to discard? \"))\n",
    "        try:\n",
    "            self.items[discard] -= quantity\n",
    "            if self.items[discard] <= 0:\n",
    "                del self.items[discard]\n",
    "            print(f'{quantity} {discard}s have been removed. ')\n",
    "        except:\n",
    "            print(f'{discard} was not in your cart')\n",
    "        self.show()\n",
    "    \n",
    "    def show(self):\n",
    "        print(f\"Your cart contains the listed items \")\n",
    "        for item, quantity in self.items.items():\n",
    "            print(f\"{item} | quantity: {quantity} \")\n",
    "    \n",
    "    def checkout(self):\n",
    "        if not self.items:\n",
    "            print(\"buy something next time... Please\")\n",
    "        else:\n",
    "            print('Thanks for shopping!')\n",
    "            self.show()\n",
    "    \n",
    "# control the logic and flow/operation of our overall program\n",
    "class Main:\n",
    "    def showInstructions():\n",
    "        print(\"\"\"\n",
    "Welcome to the Shopping Program.\n",
    "Options:\n",
    "[1] Show Current Cart\n",
    "[2] Add Item\n",
    "[3] Remove Item\n",
    "[4] Quit\n",
    "        \"\"\")\n",
    "    \n",
    "    # driver code - responsible for actually calling all of my functions\n",
    "    def run():\n",
    "        Main.showInstructions()\n",
    "        my_cart = Cart()\n",
    "                  \n",
    "        while True:\n",
    "            choice = input(\"What would you like to do? \")      \n",
    "            if choice == '1':\n",
    "                if my_cart.items == {}:\n",
    "                    print('Your cart is empty... start shopping')\n",
    "                else:\n",
    "                    my_cart.show()\n",
    "            elif choice == '2':\n",
    "                  my_cart.add()\n",
    "            elif choice == '3':\n",
    "                if my_cart.items == {}:\n",
    "                    print('Your cart is empty... add something before you remove it')\n",
    "\n",
    "                else:\n",
    "                    my_cart.remove()\n",
    "            elif choice == '4':\n",
    "                my_cart.checkout()\n",
    "                break\n",
    "            else:\n",
    "                  print(\"Error: Please try again. \")\n",
    "\n",
    "Main.run()\n",
    "        "
   ]
  },
  {
   "cell_type": "markdown",
   "metadata": {},
   "source": [
    "# working with APIs"
   ]
  },
  {
   "cell_type": "markdown",
   "metadata": {},
   "source": [
    "<p> What exactly is an API? <br> <br>\n",
    "API is the acronym for Application Programming Interface, which is a software intermediary that allows two applications to talk to each other. Each time you use an app like Facebook, send an instant message, or check the weather on your phone, you're using an API. </p>"
   ]
  },
  {
   "cell_type": "markdown",
   "metadata": {},
   "source": [
    "### The Poke API  allows you to retreive a pokemon's information from PokeAPI https://pokeapi.co/\n",
    "\n"
   ]
  },
  {
   "cell_type": "code",
   "execution_count": null,
   "metadata": {},
   "outputs": [],
   "source": [
    "# making an API call\n",
    "import requests as r\n",
    "\n",
    "r = r.get('http://pokeapi.co/api/v2/pokemon/pikachu')\n",
    "if r.status_code == 200:\n",
    "    data = r.json()\n",
    "    \n",
    "print(data.keys())\n"
   ]
  },
  {
   "cell_type": "markdown",
   "metadata": {},
   "source": [
    "### Display a Pokemon's name, abilities, types, and weight"
   ]
  },
  {
   "cell_type": "code",
   "execution_count": null,
   "metadata": {},
   "outputs": [],
   "source": [
    "# name, abilities, types, and weight\n",
    "name = data['name']\n",
    "print(name)"
   ]
  },
  {
   "cell_type": "code",
   "execution_count": null,
   "metadata": {},
   "outputs": [],
   "source": [
    "# get type\n",
    "types = [pokemon['type']['name'] for pokemon in data['types']]\n",
    "\n",
    "print(types)"
   ]
  },
  {
   "cell_type": "code",
   "execution_count": null,
   "metadata": {},
   "outputs": [],
   "source": [
    "# get weight\n",
    "weight = data['weight']\n",
    "print(weight)"
   ]
  },
  {
   "cell_type": "code",
   "execution_count": null,
   "metadata": {},
   "outputs": [],
   "source": [
    "# get abilities\n",
    "abilities = [pokemon['ability']['name']for pokemon in data['abilities']]\n",
    "\n",
    "print(abilities)\n"
   ]
  },
  {
   "cell_type": "code",
   "execution_count": null,
   "metadata": {},
   "outputs": [],
   "source": [
    "# Create a structure for a single pokemon\n",
    "pokemon_x = {\n",
    "    \n",
    "'name': data['name'],\n",
    "'abilities': [pokemon['ability']['name']for pokemon in data['abilities']],\n",
    "'weight': data['weight'],\n",
    "'types': [pokemon['type']['name'] for pokemon in data['types']]\n",
    "}\n",
    "\n",
    "print(pokemon_x)"
   ]
  },
  {
   "cell_type": "code",
   "execution_count": null,
   "metadata": {},
   "outputs": [],
   "source": []
  },
  {
   "cell_type": "markdown",
   "metadata": {},
   "source": [
    "#### Create a function to Pull in your own Pokemon's data "
   ]
  },
  {
   "cell_type": "code",
   "execution_count": null,
   "metadata": {},
   "outputs": [],
   "source": [
    "import requests as r\n",
    "\n",
    "the_team = ['electrabuzz','haunter', 'tyranitar', 'pikachu', 'charmander']\n",
    "\n",
    "def poke_api_call(pokemon):\n",
    "    req = r.get(f'http://pokeapi.co/api/v2/pokemon/{pokemon}')\n",
    "    if req.status_code == 200:\n",
    "        data = req.json()\n",
    "    pokemon_x = {\n",
    "    'name': data['name'],\n",
    "    'abilities': [pokemon['ability']['name']for pokemon in data['abilities']],\n",
    "    'weight': data['weight'],\n",
    "    'types': [pokemon['type']['name'] for pokemon in data['types']]\n",
    "    }\n",
    "    \n",
    "    return pokemon_x\n",
    "    \n",
    "poke_api_call('pikachu')"
   ]
  },
  {
   "cell_type": "markdown",
   "metadata": {},
   "source": [
    "#### Use your function to create a dictionary of your Johto League 6  (favorite 6 pokemon)"
   ]
  },
  {
   "cell_type": "code",
   "execution_count": null,
   "metadata": {},
   "outputs": [],
   "source": [
    "# Place all 6 of your pokemon on the object below, each pokemon should have at least as much info as Pikachu did.\n",
    "\n",
    "my_six_pokemon = {}\n",
    "for i in the_team:\n",
    "    poke_stats = poke_api_call(i)\n",
    "    my_six_pokemon[i.title()] = poke_stats\n",
    "    \n",
    "my_six_pokemon"
   ]
  },
  {
   "cell_type": "markdown",
   "metadata": {},
   "source": [
    "## Lets create a class called 'Pokemon' and create our pokemon as instances"
   ]
  },
  {
   "cell_type": "code",
   "execution_count": 40,
   "metadata": {},
   "outputs": [
    {
     "name": "stdout",
     "output_type": "stream",
     "text": [
      "pikachu's data has been updated! \n",
      "{'name': 'pikachu', 'normal_moves': ['double-slap', 'slam', 'feint-attack'], 'types': ['electric'], 'abilities': ['static', 'lightning-rod'], 'weight': 60}\n"
     ]
    }
   ],
   "source": [
    "import requests\n",
    "import random as r\n",
    "\n",
    "class Move_Tutor:\n",
    "    def __init__(self, name):\n",
    "        self.name = name\n",
    "        self.normal_moves = {}\n",
    "    def moves_api_call(self):\n",
    "        id_ = r.randint(1,3)\n",
    "        req = requests.get(f\"https://pokeapi.co/api/v2/move/{id_}/\")\n",
    "        if req.status_code == 200:\n",
    "            data1 = req.json()\n",
    "        else:\n",
    "            print(f'Ran into an issue {req.status_code}')\n",
    "            return\n",
    "        \n",
    "        self.normal_moves = [pokemon['name'] for pokemon in data1['contest_combos']['normal']['use_before']]\n",
    "\n",
    "    \n",
    "class Pokemon(Move_Tutor):\n",
    "    def __init__(self, name):\n",
    "        Move_Tutor.__init__(self, name)\n",
    "        self.types = []\n",
    "        self.abilities = []\n",
    "        self.weight = None\n",
    "    \n",
    "    def poke_api_call(self):\n",
    "        r = requests.get(f\"https://pokeapi.co/api/v2/pokemon/{self.name}\")\n",
    "        if r.status_code == 200:\n",
    "            data = r.json()\n",
    "        else:\n",
    "            print(f'Ran into an issue {r.status_code}')\n",
    "            return\n",
    "        \n",
    "        self.types = [pokemon['type']['name'] for pokemon in data['types']]\n",
    "        self.abilities = [poke['ability']['name'] for poke in data['abilities']]\n",
    "        self.weight = data['weight']\n",
    "        print(f'{self.name}\\'s data has been updated! ')\n",
    "        \n",
    "pikachu = Pokemon('pikachu')\n",
    "pikachu.moves_api_call()\n",
    "pikachu.poke_api_call()\n",
    "print(pikachu.__dict__)\n"
   ]
  },
  {
   "cell_type": "code",
   "execution_count": 34,
   "metadata": {},
   "outputs": [
    {
     "name": "stdout",
     "output_type": "stream",
     "text": [
      "lugia's data has been updated! \n",
      "pikachu's data has been updated! \n",
      "charmander's data has been updated! \n",
      "bulbasaur's data has been updated! \n",
      "squirtle's data has been updated! \n",
      "hitmonlee's data has been updated! \n"
     ]
    },
    {
     "data": {
      "text/plain": [
       "{'lugia': <__main__.Pokemon at 0x7faa5048bc70>,\n",
       " 'pikachu': <__main__.Pokemon at 0x7faa504cfb50>,\n",
       " 'charmander': <__main__.Pokemon at 0x7faa608d35e0>,\n",
       " 'bulbasaur': <__main__.Pokemon at 0x7faa1005cf10>,\n",
       " 'squirtle': <__main__.Pokemon at 0x7faa381aca60>,\n",
       " 'hitmonlee': <__main__.Pokemon at 0x7faa608b28e0>}"
      ]
     },
     "execution_count": 34,
     "metadata": {},
     "output_type": "execute_result"
    }
   ],
   "source": [
    "pokemon = ['lugia', 'pikachu', 'charmander', 'bulbasaur', 'squirtle', 'hitmonlee']\n",
    "\n",
    "# dictionary of structure {name: object,}\n",
    "poke_dict = {}\n",
    "\n",
    "for name in pokemon:\n",
    "    new = Pokemon(name)\n",
    "    new.poke_api_call()\n",
    "    poke_dict[name] = new\n",
    "    \n",
    "poke_dict"
   ]
  },
  {
   "cell_type": "markdown",
   "metadata": {},
   "source": [
    "### Where to go next? What to do with your Pokemon object? <br><br>\n",
    "## \"What to do now?\"<br>\n",
    "\n",
    "# Shopping cart style program?\n",
    "### User builds a team of pokemon\n",
    "    \n",
    "<p> we could turn our pokemon object that utilizes API calls into a shopping cart style program where we ask our user for input to choose pokemon to create </p> <br> <br>\n",
    "    \n",
    "# Check out what other endpoints the PokeAPI has to offer\n",
    "  I figured out that they have a region endpoint\n",
    " the region endpoint has a pokedex endpoint within it\n",
    " I can build a list of pokemon names from that pokedex endpoint\n",
    " I can use that list of pokemon names in my repeatable pokemon object creation and wind up with a massive list of pokemon\n",
    "<br><br>\n",
    "(note that the API will be a bit slower when you have hundreds of calls to make)\n",
    "        \n",
    "# Turn toward more user searching our pokemon lists - build functions for different types of search\n",
    " user can press 1 to search by name\n",
    " user can press 2 to search by type\n",
    " (have a function that loops through pokemon and figures out if they have the right type)"
   ]
  },
  {
   "cell_type": "code",
   "execution_count": null,
   "metadata": {},
   "outputs": [],
   "source": []
  }
 ],
 "metadata": {
  "kernelspec": {
   "display_name": "Python 3 (ipykernel)",
   "language": "python",
   "name": "python3"
  },
  "language_info": {
   "codemirror_mode": {
    "name": "ipython",
    "version": 3
   },
   "file_extension": ".py",
   "mimetype": "text/x-python",
   "name": "python",
   "nbconvert_exporter": "python",
   "pygments_lexer": "ipython3",
   "version": "3.9.7"
  }
 },
 "nbformat": 4,
 "nbformat_minor": 4
}
