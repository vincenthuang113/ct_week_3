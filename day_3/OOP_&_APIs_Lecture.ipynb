{
 "cells": [
  {
   "cell_type": "markdown",
   "metadata": {},
   "source": [
    "# Object Oriented Programming 2 - examples and APIs\n"
   ]
  },
  {
   "cell_type": "markdown",
   "metadata": {},
   "source": [
    "## Tasks Today:\n",
    "\n",
    "   \n",
    "\n",
    "1) <b>Shopping Cart Example</b> <br>\n",
    "2) <b>Requests and the pokemon API </b> <br>\n",
    " "
   ]
  },
  {
   "cell_type": "markdown",
   "metadata": {},
   "source": [
    "# Goal \n",
    "### build a shopping cart program with prices and quantities using objects and a dictionary"
   ]
  },
  {
   "cell_type": "code",
   "execution_count": 2,
   "metadata": {},
   "outputs": [
    {
     "name": "stdout",
     "output_type": "stream",
     "text": [
      "\n",
      "Welcome to the Shopping Program.\n",
      "Options:\n",
      "[1] Show Current Cart\n",
      "[2] Add Item\n",
      "[3] Remove Item\n",
      "[4] Quit\n",
      "        \n",
      "What would you like to do? 4\n",
      "Buy something next time.\n"
     ]
    }
   ],
   "source": [
    "# Create a class called cart that retains items and has methods to add, remove, and show\n",
    "\n",
    "# this class is just responsible for the cart object and the actions of the cart object\n",
    "class Cart():\n",
    "    def __init__(self):\n",
    "        self.items = []\n",
    "        \n",
    "    def add(self):\n",
    "        newitem = input('What would you like to add to your cart? ')\n",
    "        self.items.append(newitem.lower())\n",
    "        print(f'{newitem} has been added to your cart.\\n')\n",
    "    \n",
    "    def remove(self):\n",
    "        remov = input('What would you like to remove from your cart? ')\n",
    "        try:\n",
    "            self.items.remove(remov.lower())\n",
    "            print(f'{remov} was successfully removed from your cart.\\n')\n",
    "        except:\n",
    "            print(f'{remov} was not in your cart.\\n')\n",
    "    \n",
    "    def show(self):\n",
    "        print(f'Your cart currently contains:\\n{self.items}\\n')\n",
    "    \n",
    "    def checkout(self):\n",
    "        if not self.items:\n",
    "            print('Buy something next time.')\n",
    "        else:\n",
    "            print('Thank you for shopping.')\n",
    "            print(f'Your cart contains:')\n",
    "            for i in range(len(self.items)): # index loop\n",
    "                # i represents an index number\n",
    "                # therefore cart[i] represents a value in the cart\n",
    "                print(f'{i+1} | {self.items[i]}')\n",
    "\n",
    "# control the logic and flow/operation of our overall program\n",
    "class Main:\n",
    "    def showInstructions():\n",
    "        print(\"\"\"\n",
    "Welcome to the Shopping Program.\n",
    "Options:\n",
    "[1] Show Current Cart\n",
    "[2] Add Item\n",
    "[3] Remove Item\n",
    "[4] Quit\n",
    "        \"\"\")\n",
    "    \n",
    "    # driver code - responsible for actually calling all of my functions\n",
    "    def run():\n",
    "        Main.showInstructions()\n",
    "        mycart = Cart()\n",
    "        while True:\n",
    "            choice = input('What would you like to do? ')\n",
    "            if choice == '1':\n",
    "                if mycart.items == []:\n",
    "                    print('Your cart is empty, you have nothing to show.\\n')\n",
    "                else:\n",
    "                    mycart.show()\n",
    "            elif choice == '2':\n",
    "                mycart.add()\n",
    "            elif choice == '3':\n",
    "                if mycart.items == []:\n",
    "                    print('Your cart is empty, you have nothing to remove.\\n')\n",
    "                else:\n",
    "                    mycart.remove()\n",
    "            elif choice == '4':\n",
    "                mycart.checkout()\n",
    "                break\n",
    "            else:\n",
    "                print('Invalid input, please try again.')\n",
    "\n",
    "Main.run()"
   ]
  },
  {
   "cell_type": "markdown",
   "metadata": {},
   "source": [
    "# working with APIs"
   ]
  },
  {
   "cell_type": "markdown",
   "metadata": {},
   "source": [
    "<p> What exactly is an API? <br> <br>\n",
    "API is the acronym for Application Programming Interface, which is a software intermediary that allows two applications to talk to each other. Each time you use an app like Facebook, send an instant message, or check the weather on your phone, you're using an API. </p>"
   ]
  },
  {
   "cell_type": "markdown",
   "metadata": {},
   "source": [
    "### The Poke API  allows you to retreive a pokemon's information from PokeAPI https://pokeapi.co/\n",
    "\n"
   ]
  },
  {
   "cell_type": "code",
   "execution_count": 5,
   "metadata": {},
   "outputs": [
    {
     "name": "stdout",
     "output_type": "stream",
     "text": [
      "dict_keys(['abilities', 'base_experience', 'forms', 'game_indices', 'height', 'held_items', 'id', 'is_default', 'location_area_encounters', 'moves', 'name', 'order', 'past_types', 'species', 'sprites', 'stats', 'types', 'weight'])\n"
     ]
    }
   ],
   "source": [
    "# making an API call\n",
    "import requests as r\n",
    "req = r.get('https://pokeapi.co/api/v2/pokemon/pikachu')\n",
    "if req.status_code == 200:\n",
    "    data = req.json()\n",
    "print(data.keys())"
   ]
  },
  {
   "cell_type": "markdown",
   "metadata": {},
   "source": [
    "### Display a Pokemon's name, abilities, types, and weight"
   ]
  },
  {
   "cell_type": "code",
   "execution_count": 6,
   "metadata": {},
   "outputs": [
    {
     "name": "stdout",
     "output_type": "stream",
     "text": [
      "pikachu\n"
     ]
    }
   ],
   "source": [
    "# name, abilities, types, and weight\n",
    "\n",
    "# get the name\n",
    "# when im going 1 at a time, my goal is save the name as its own variable\n",
    "name = data['name']\n",
    "print(name)"
   ]
  },
  {
   "cell_type": "code",
   "execution_count": 7,
   "metadata": {},
   "outputs": [
    {
     "name": "stdout",
     "output_type": "stream",
     "text": [
      "60\n"
     ]
    }
   ],
   "source": [
    "# weight is probably the same approach to access as name\n",
    "weight = data['weight']\n",
    "print(weight)"
   ]
  },
  {
   "cell_type": "code",
   "execution_count": 8,
   "metadata": {},
   "outputs": [
    {
     "name": "stdout",
     "output_type": "stream",
     "text": [
      "lightning-rod\n",
      "['static', 'lightning-rod']\n",
      "['static', 'lightning-rod']\n"
     ]
    }
   ],
   "source": [
    "# abilities - we have a little more work to do - abilities is a list\n",
    "abilityname = data['abilities'][1]['ability']['name']\n",
    "print(abilityname)\n",
    "\n",
    "# if we want to do something to each item in our list, we need a loop!\n",
    "abilities = []\n",
    "for x in data['abilities']:\n",
    "    abilities.append(x['ability']['name'])\n",
    "print(abilities)\n",
    "\n",
    "# hey, thats a for loop through a list creating a new list with a transformation\n",
    "# isn't there a better way to do that?\n",
    "# LIST COMPREHENSIONS are made for this! :)\n",
    "# [transformation for item in iterable]\n",
    "abilities = [x['ability']['name'] for x in data['abilities']]\n",
    "print(abilities)"
   ]
  },
  {
   "cell_type": "code",
   "execution_count": 9,
   "metadata": {},
   "outputs": [
    {
     "name": "stdout",
     "output_type": "stream",
     "text": [
      "electric\n",
      "['electric']\n"
     ]
    }
   ],
   "source": [
    "# types - similar structure to abilities\n",
    "typename = data['types'][0]['type']['name']\n",
    "print(typename)\n",
    "\n",
    "# if I can do it for one, I can translate it for many\n",
    "# translate the single transformation into a list comprehension\n",
    "types = [x['type']['name'] for x in data['types']]\n",
    "print(types)"
   ]
  },
  {
   "cell_type": "code",
   "execution_count": 10,
   "metadata": {},
   "outputs": [],
   "source": [
    "# the assignment suggests the following structure for a single pokemon\n",
    "pokemon1 = {\n",
    "'name': '',\n",
    "'abilities': [],\n",
    "'weight': '',\n",
    "'types': []\n",
    "}\n",
    "\n",
    "# it turns out that if we have figured out the processes for getting this data separately,\n",
    "    # we can easily make that dictionary"
   ]
  },
  {
   "cell_type": "code",
   "execution_count": 11,
   "metadata": {},
   "outputs": [
    {
     "name": "stdout",
     "output_type": "stream",
     "text": [
      "{'name': 'pikachu', 'abilities': ['static', 'lightning-rod'], 'weight': 60, 'types': ['electric']}\n"
     ]
    }
   ],
   "source": [
    "pikachu = {\n",
    "    'name': name,\n",
    "    'abilities': abilities,\n",
    "    'weight': weight,\n",
    "    'types': types\n",
    "}\n",
    "print(pikachu)"
   ]
  },
  {
   "cell_type": "markdown",
   "metadata": {},
   "source": [
    "#### Create a function to Pull in your own Pokemon's data "
   ]
  },
  {
   "cell_type": "code",
   "execution_count": 14,
   "metadata": {},
   "outputs": [],
   "source": [
    "import requests as r\n",
    "\n",
    "def poke_api_call(pokemon):\n",
    "    pass\n",
    "\n"
   ]
  },
  {
   "cell_type": "markdown",
   "metadata": {},
   "source": [
    "#### Use your function to create a dictionary of your Johto League 6  (favorite 6 pokemon)"
   ]
  },
  {
   "cell_type": "code",
   "execution_count": 15,
   "metadata": {},
   "outputs": [],
   "source": [
    "# Place all 6 of your pokemon on the object below, each pokemon should have at least as much info as Pikachu did.\n",
    "\n",
    "my_six_pokemon = {}"
   ]
  },
  {
   "cell_type": "markdown",
   "metadata": {},
   "source": [
    "## Lets create a class called 'Pokemon' and create our pokemon as instances"
   ]
  },
  {
   "cell_type": "code",
   "execution_count": 16,
   "metadata": {},
   "outputs": [
    {
     "name": "stdout",
     "output_type": "stream",
     "text": [
      "{'name': None, 'types': [], 'abilities': [], 'weight': None}\n",
      "Pikachu's data has been updated! {'name': 'Pikachu', 'types': ['electric'], 'abilities': ['static', 'lightning-rod'], 'weight': 60}\n",
      "<__main__.Pokemon object at 0x7faadd4887f0>\n"
     ]
    }
   ],
   "source": [
    "\n",
    "class Pokemon:\n",
    "    def __init__(self):\n",
    "        self.name = None\n",
    "        self.types = []\n",
    "        self.abilities = []\n",
    "        self.weight = None\n",
    "    \n",
    "    def pokeAPIcall(self, pokeName):\n",
    "        import requests as r\n",
    "        req = r.get(f'https://pokeapi.co/api/v2/pokemon/{pokeName}')\n",
    "        if req.status_code == 200:\n",
    "            data = req.json()\n",
    "        else:\n",
    "            print('Ran into an issue: {req.status_code}') # send back the error code if something went wrong\n",
    "            return\n",
    "\n",
    "        self.name = data['name'].title()\n",
    "        self.types = [x['type']['name'] for x in data['types']]\n",
    "        self.abilities = [x['ability']['name'] for x in data['abilities']]\n",
    "        self.weight = data['weight']\n",
    "        print(f\"{self.name}'s data has been updated! {self.__dict__}\")\n",
    "        \n",
    "pikachu = Pokemon() # instantiate a pikachu\n",
    "print(pikachu.__dict__) \n",
    "# dunder methods/attributes (aka double underscore) are special built-in methods and attributes\n",
    "    # that have specific behavior\n",
    "    # so when we use an __init__ method, the __dict__ attribute is automatically created in the background\n",
    "    # so we can access the __dict__ attribute\n",
    "        # has value of a dictionary representation of all of the other attributes of our object   \n",
    "pikachu.pokeAPIcall('pikachu') # make the api call happen for the pikachu instance of the Pokemon class\n",
    "print(pikachu)"
   ]
  },
  {
   "cell_type": "code",
   "execution_count": 17,
   "metadata": {},
   "outputs": [
    {
     "name": "stdout",
     "output_type": "stream",
     "text": [
      "Lugia's data has been updated! {'name': 'Lugia', 'types': ['psychic', 'flying'], 'abilities': ['pressure', 'multiscale'], 'weight': 2160}\n",
      "Pikachu's data has been updated! {'name': 'Pikachu', 'types': ['electric'], 'abilities': ['static', 'lightning-rod'], 'weight': 60}\n",
      "Charmander's data has been updated! {'name': 'Charmander', 'types': ['fire'], 'abilities': ['blaze', 'solar-power'], 'weight': 85}\n",
      "Bulbasaur's data has been updated! {'name': 'Bulbasaur', 'types': ['grass', 'poison'], 'abilities': ['overgrow', 'chlorophyll'], 'weight': 69}\n",
      "Squirtle's data has been updated! {'name': 'Squirtle', 'types': ['water'], 'abilities': ['torrent', 'rain-dish'], 'weight': 90}\n",
      "Hitmonlee's data has been updated! {'name': 'Hitmonlee', 'types': ['fighting'], 'abilities': ['limber', 'reckless', 'unburden'], 'weight': 498}\n"
     ]
    },
    {
     "data": {
      "text/plain": [
       "{'lugia': <__main__.Pokemon at 0x7faadd488160>,\n",
       " 'pikachu': <__main__.Pokemon at 0x7faadd2bda90>,\n",
       " 'charmander': <__main__.Pokemon at 0x7faadd3164f0>,\n",
       " 'bulbasaur': <__main__.Pokemon at 0x7faadd316910>,\n",
       " 'squirtle': <__main__.Pokemon at 0x7faadd3163a0>,\n",
       " 'hitmonlee': <__main__.Pokemon at 0x7faadd2c95b0>}"
      ]
     },
     "execution_count": 17,
     "metadata": {},
     "output_type": "execute_result"
    }
   ],
   "source": [
    "pokemon = ['lugia', 'pikachu', 'charmander', 'bulbasaur', 'squirtle', 'hitmonlee']\n",
    "\n",
    "# dictionary of structure {name: object,}\n",
    "poke = {}\n",
    "for name in pokemon:\n",
    "    new = Pokemon() # instantiate a new pokemon\n",
    "    new.pokeAPIcall(name) # fill that pokemon's information based on the name provided\n",
    "    poke[name] = new\n",
    "    \n",
    "poke"
   ]
  },
  {
   "cell_type": "markdown",
   "metadata": {},
   "source": [
    "### Where to go next? What to do with your Pokemon object? <br><br>\n",
    "## \"What to do now?\"<br>\n",
    "\n",
    "# Shopping cart style program?\n",
    "### User builds a team of pokemon\n",
    "    \n",
    "<p> we could turn our pokemon object that utilizes API calls into a shopping cart style program where we ask our user for input to choose pokemon to create </p> <br> <br>\n",
    "    \n",
    "# Check out what other endpoints the PokeAPI has to offer\n",
    "  I figured out that they have a region endpoint\n",
    " the region endpoint has a pokedex endpoint within it\n",
    " I can build a list of pokemon names from that pokedex endpoint\n",
    " I can use that list of pokemon names in my repeatable pokemon object creation and wind up with a massive list of pokemon\n",
    "<br><br>\n",
    "(note that the API will be a bit slower when you have hundreds of calls to make)\n",
    "        \n",
    "# Turn toward more user searching our pokemon lists - build functions for different types of search\n",
    " user can press 1 to search by name\n",
    " user can press 2 to search by type\n",
    " (have a function that loops through pokemon and figures out if they have the right type)"
   ]
  },
  {
   "cell_type": "code",
   "execution_count": null,
   "metadata": {},
   "outputs": [],
   "source": []
  }
 ],
 "metadata": {
  "kernelspec": {
   "display_name": "Python 3",
   "language": "python",
   "name": "python3"
  },
  "language_info": {
   "codemirror_mode": {
    "name": "ipython",
    "version": 3
   },
   "file_extension": ".py",
   "mimetype": "text/x-python",
   "name": "python",
   "nbconvert_exporter": "python",
   "pygments_lexer": "ipython3",
   "version": "3.8.5"
  }
 },
 "nbformat": 4,
 "nbformat_minor": 4
}
